{
 "cells": [
  {
   "cell_type": "markdown",
   "metadata": {},
   "source": [
    "# Retrieval Augmented Generation for Question Answering on Documents"
   ]
  },
  {
   "cell_type": "code",
   "execution_count": 1,
   "metadata": {},
   "outputs": [],
   "source": [
    "from langchain_ollama import ChatOllama\n",
    "from langchain_core.messages import HumanMessage"
   ]
  },
  {
   "cell_type": "markdown",
   "metadata": {},
   "source": [
    "## Importing `llama3.1:8b` Model"
   ]
  },
  {
   "cell_type": "code",
   "execution_count": 2,
   "metadata": {},
   "outputs": [],
   "source": [
    "model=ChatOllama(model='llama3.1:8b')"
   ]
  },
  {
   "cell_type": "markdown",
   "metadata": {},
   "source": [
    "## Loading the Document. `Leave Policy Bajra Technologies`"
   ]
  },
  {
   "cell_type": "code",
   "execution_count": 3,
   "metadata": {},
   "outputs": [],
   "source": [
    "from langchain_community.document_loaders import PyPDFLoader\n",
    "\n",
    "file_path = (\n",
    "    \"/home/bikasherl/Desktop/Week 10/LEAVE POLICY BAJRA TECHNOLOGIES 2081_82.docx.pdf\"\n",
    ")\n",
    "loader = PyPDFLoader(file_path)\n",
    "pages = loader.load()\n",
    "\n",
    "\n",
    "# print(pages[0].page_content)"
   ]
  },
  {
   "cell_type": "markdown",
   "metadata": {},
   "source": [
    "## Chunking, Embedding and Storing"
   ]
  },
  {
   "cell_type": "code",
   "execution_count": 4,
   "metadata": {},
   "outputs": [
    {
     "name": "stderr",
     "output_type": "stream",
     "text": [
      "/home/bikasherl/miniconda3/envs/bajra/lib/python3.12/site-packages/sentence_transformers/cross_encoder/CrossEncoder.py:11: TqdmWarning: IProgress not found. Please update jupyter and ipywidgets. See https://ipywidgets.readthedocs.io/en/stable/user_install.html\n",
      "  from tqdm.autonotebook import tqdm, trange\n"
     ]
    }
   ],
   "source": [
    "import bs4\n",
    "from langchain import hub\n",
    "from langchain.chains import create_retrieval_chain\n",
    "from langchain.chains.combine_documents import create_stuff_documents_chain\n",
    "from langchain_chroma import Chroma\n",
    "from langchain_core.prompts import ChatPromptTemplate\n",
    "from langchain_text_splitters import RecursiveCharacterTextSplitter\n",
    "\n",
    "from langchain_huggingface import HuggingFaceEmbeddings\n",
    "\n",
    "\n",
    "text_splitter = RecursiveCharacterTextSplitter(chunk_size=1000, chunk_overlap=200)\n",
    "splits = text_splitter.split_documents(pages)\n",
    "vectorstore = Chroma.from_documents(documents=splits, \n",
    "                                    embedding=HuggingFaceEmbeddings(model_name=\"sentence-transformers/all-MiniLM-L6-v2\"))\n",
    "retriever = vectorstore.as_retriever()\n",
    "\n",
    "\n",
    "\n",
    "# 2. Incorporate the retriever into a question-answering chain.\n",
    "system_prompt = (\n",
    "    \"You are an assistant for question-answering tasks. \"\n",
    "    \"Use the following pieces of retrieved context to answer \"\n",
    "    \"the question. If you don't know the answer, say that you \"\n",
    "    \"don't know. Use one sentence maximum and keep the \"\n",
    "    \"answer concise.\"\n",
    "    \"\\n\\n\"\n",
    "    \"{context}\"\n",
    ")\n",
    "\n",
    "\n",
    "# prompt = ChatPromptTemplate.from_messages(\n",
    "#     [\n",
    "#         (\"system\", system_prompt),\n",
    "#         (\"human\", \"{input}\"),\n",
    "#     ]\n",
    "# )\n",
    "\n",
    "\n",
    "# question_answer_chain = create_stuff_documents_chain(model, prompt)\n",
    "# rag_chain = create_retrieval_chain(retriever, question_answer_chain)\n",
    "\n",
    "\n",
    "# response = rag_chain.invoke({\"input\": \"What is this document about? Please answer in one sentence.\"})\n",
    "# response[\"answer\"]"
   ]
  },
  {
   "cell_type": "markdown",
   "metadata": {},
   "source": [
    "## Hybrid Search: Combining BM25 and Semantic Search for Better Results"
   ]
  },
  {
   "cell_type": "code",
   "execution_count": 5,
   "metadata": {},
   "outputs": [],
   "source": [
    "from langchain.retrievers import BM25Retriever, EnsembleRetriever\n",
    "\n",
    "# Initialize the BM25 retriever\n",
    "bm25_retriever = BM25Retriever.from_documents(splits)\n",
    "bm25_retriever.k =  2  # Retrieve top 2 results\n",
    "\n",
    "\n",
    "\n",
    "# Initialize the ensemble retriever\n",
    "ensemble_retriever = EnsembleRetriever(retrievers=[bm25_retriever, retriever],\n",
    "                                       weights=[0.4, 0.6])"
   ]
  },
  {
   "cell_type": "markdown",
   "metadata": {},
   "source": [
    "## Create History Aware Chatbot"
   ]
  },
  {
   "cell_type": "code",
   "execution_count": 6,
   "metadata": {},
   "outputs": [],
   "source": [
    "from langchain.chains import create_history_aware_retriever\n",
    "from langchain_core.prompts import MessagesPlaceholder\n",
    "\n",
    "contextualize_q_system_prompt = (\n",
    "    \"Given a chat history and the latest user question \"\n",
    "    \"which might reference context in the chat history, \"\n",
    "    \"formulate a standalone question which can be understood \"\n",
    "    \"without the chat history. Do NOT answer the question, \"\n",
    "    \"just reformulate it if needed and otherwise return it as is.\"\n",
    ")\n",
    "\n",
    "contextualize_q_prompt = ChatPromptTemplate.from_messages(\n",
    "    [\n",
    "        (\"system\", contextualize_q_system_prompt),\n",
    "        MessagesPlaceholder(\"chat_history\"),\n",
    "        (\"human\", \"{input}\"),\n",
    "    ]\n",
    ")\n",
    "# history_aware_retriever = create_history_aware_retriever(\n",
    "#     model, retriever, contextualize_q_prompt\n",
    "# )\n",
    "\n",
    "\n",
    "# for hybrid search\n",
    "history_aware_retriever = create_history_aware_retriever(\n",
    "    model, ensemble_retriever, contextualize_q_prompt\n",
    ")\n"
   ]
  },
  {
   "cell_type": "code",
   "execution_count": 7,
   "metadata": {},
   "outputs": [],
   "source": [
    "from langchain.chains import create_retrieval_chain\n",
    "from langchain.chains.combine_documents import create_stuff_documents_chain\n",
    "\n",
    "qa_prompt = ChatPromptTemplate.from_messages(\n",
    "    [\n",
    "        (\"system\", system_prompt),\n",
    "        MessagesPlaceholder(\"chat_history\"),\n",
    "        (\"human\", \"{input}\"),\n",
    "    ]\n",
    ")\n",
    "\n",
    "\n",
    "question_answer_chain = create_stuff_documents_chain(model, qa_prompt)\n",
    "\n",
    "rag_chain = create_retrieval_chain(history_aware_retriever, question_answer_chain)"
   ]
  },
  {
   "cell_type": "code",
   "execution_count": 7,
   "metadata": {},
   "outputs": [
    {
     "name": "stdout",
     "output_type": "stream",
     "text": [
      "There are several types of paid leaves available:\n",
      "\n",
      "* Annual leave\n",
      "* Sick leave\n",
      "* Marriage/Honeymoon\n",
      "* Accident cases\n",
      "* Death of a family member\n",
      "* Maternity\n"
     ]
    }
   ],
   "source": [
    "from langchain_core.messages import AIMessage, HumanMessage\n",
    "\n",
    "chat_history = []\n",
    "\n",
    "question = \"what are the different types of paid leaves available?\"\n",
    "ai_msg_1 = rag_chain.invoke({\"input\": question, \"chat_history\": chat_history})\n",
    "chat_history.extend(\n",
    "    [\n",
    "        HumanMessage(content=question),\n",
    "        AIMessage(content=ai_msg_1[\"answer\"]),\n",
    "    ]\n",
    ")\n",
    "\n",
    "second_question = \"Answer in list format.\"\n",
    "ai_msg_2 = rag_chain.invoke({\"input\": second_question, \"chat_history\": chat_history})\n",
    "\n",
    "print(ai_msg_2[\"answer\"])"
   ]
  },
  {
   "cell_type": "code",
   "execution_count": 10,
   "metadata": {},
   "outputs": [
    {
     "name": "stdout",
     "output_type": "stream",
     "text": [
      "There is a Floating leave which includes: a. Dashain - 5 working days, b. Tihar - 2 working days, c. Holi Purnima - 1 day, d. Nepali New Year - 1 day, and e. Floating Festive leaves - 4 days (which can be any festival/public holidays celebrated).\n"
     ]
    }
   ],
   "source": [
    "print(ai_msg_1['answer'])"
   ]
  },
  {
   "cell_type": "markdown",
   "metadata": {},
   "source": [
    "## Better Way to Make History Aware Chatbot"
   ]
  },
  {
   "cell_type": "code",
   "execution_count": 8,
   "metadata": {},
   "outputs": [],
   "source": [
    "from langchain_community.chat_message_histories import ChatMessageHistory\n",
    "from langchain_core.chat_history import BaseChatMessageHistory\n",
    "from langchain_core.runnables.history import RunnableWithMessageHistory\n",
    "\n",
    "store = {}\n",
    "\n",
    "\n",
    "def get_session_history(session_id: str) -> BaseChatMessageHistory:\n",
    "    if session_id not in store:\n",
    "        store[session_id] = ChatMessageHistory()\n",
    "    return store[session_id]\n",
    "\n",
    "\n",
    "conversational_rag_chain = RunnableWithMessageHistory(\n",
    "    rag_chain,\n",
    "    get_session_history,\n",
    "    input_messages_key=\"input\",\n",
    "    history_messages_key=\"chat_history\",\n",
    "    output_messages_key=\"answer\",\n",
    ")\n",
    "\n"
   ]
  },
  {
   "cell_type": "code",
   "execution_count": 9,
   "metadata": {},
   "outputs": [
    {
     "data": {
      "text/plain": [
       "'According to the context, here are some key points about the Leave Policy of Bajra Technologies:\\n\\n1. The calendar year for leave starts from July 16 to July 15 each year.\\n2. Each employee must apply for leaves via the BizOS system and not via email.\\n3. The maximum leave an employee can earn in a year is 26 working days (or 208 working hours).\\n4. Annual leave:\\n\\t* Up to 3 days requires 5 working days prior notice.\\n\\t* 4 or more days in a row requires at least 4 weeks (or 20 working days) advance notice.\\n5. Sick leave can be applied for at any time but must be approved in advance.\\n6. Failure to get approval will result in unpaid leave.\\n7. The company reserves the right to change the leave policy.\\n8. Annual leaves should not be taken from October to December and during the last quarter of the fiscal year (Baisakh to Asar end).\\n9. Leave should not be taken immediately before and after Dashain and Tihar unless unavoidable circumstances arise.\\n10. During emergency situations, employees must inform management and seek approval for leave through any media or communication channel as soon as possible.\\n11. For special situations like marriage, accident, death of a family member, maternity/paternity situation, or other health-related issues, the HR department will make the final decision.\\n\\nPlease note that this is not an exhaustive list, but it covers some key points about the Leave Policy of Bajra Technologies.'"
      ]
     },
     "execution_count": 9,
     "metadata": {},
     "output_type": "execute_result"
    }
   ],
   "source": [
    "user_inp=input(\"Ask me anything!\")\n",
    "\n",
    "\n",
    "conversational_rag_chain.invoke(\n",
    "    {\"input\": user_inp},\n",
    "    config={\n",
    "        \"configurable\": {\"session_id\": \"abc123\"}\n",
    "    },  # constructs a key \"abc123\" in `store`.\n",
    ")[\"answer\"]"
   ]
  },
  {
   "cell_type": "code",
   "execution_count": 22,
   "metadata": {},
   "outputs": [
    {
     "name": "stdout",
     "output_type": "stream",
     "text": [
      "User: If i do overtime of 2 hours daily for 6 months continuously, how many days of paid leave do i get at the end?\n",
      "\n",
      "AI: I don't know. The context doesn't provide information about how to calculate paid leave based on working extra hours.\n",
      "\n",
      "User: 1 day has 8 working hours. any additional hours count as overtime. now calculate based on it.\n",
      "\n",
      "AI: Since you've worked an average of 2 hours overtime per day, that's a total of 6*2 = 12 hours of overtime over 180 days (6 months).\n",
      "\n",
      "Assuming a standard workweek has 40 working hours and 1 day has 8 working hours, 208 working hours in a year can be calculated as: 208/5 = 41.6 weeks.\n",
      "\n",
      "Given that 1 day has 8 working hours, the maximum overtime hours in a year would be 8 * (52-41.6) = 16.48 hours, which is equivalent to approximately 2 hours of overtime per week.\n",
      "\n",
      "Since you've worked an average of 2 hours of overtime daily, it's reasonable to assume that your total overtime hours are equivalent to some number of days' worth of leave. \n",
      "\n",
      "Let's calculate this: 12 hours/week (your actual overtime) vs the maximum allowed 2 hours/week (equivalent to 0.25 days).\n",
      "\n"
     ]
    }
   ],
   "source": [
    "for message in store[\"abc123\"].messages:\n",
    "    if isinstance(message, AIMessage):\n",
    "        prefix = \"AI\"\n",
    "    else:\n",
    "        prefix = \"User\"\n",
    "\n",
    "    print(f\"{prefix}: {message.content}\\n\")"
   ]
  },
  {
   "cell_type": "markdown",
   "metadata": {},
   "source": [
    "## Function Call"
   ]
  },
  {
   "cell_type": "code",
   "execution_count": 40,
   "metadata": {},
   "outputs": [
    {
     "data": {
      "text/plain": [
       "{'a': 5, 'b': 10, 'outp': ''}"
      ]
     },
     "execution_count": 40,
     "metadata": {},
     "output_type": "execute_result"
    }
   ],
   "source": [
    "from typing import Optional\n",
    "from langchain_core.pydantic_v1 import BaseModel, Field\n",
    "from langchain_experimental.llms.ollama_functions import OllamaFunctions\n",
    "\n",
    "model = OllamaFunctions(\n",
    "    model=\"llama3.1:8b\", \n",
    "    format=\"json\"\n",
    "    )\n",
    "\n",
    "class ResponseFormatter(BaseModel):\n",
    "    \"\"\"Use this to answer about science\"\"\"\n",
    "\n",
    "    question: str = Field(description = \"Original question\")\n",
    "    answer: str = Field(description=\"The answer to the user's question\")\n",
    "    followup_question: str = Field(description=\"A followup question the user could ask\")\n",
    "\n",
    "class Joke(BaseModel):\n",
    "    \"\"\"Joke to tell user.\"\"\"\n",
    "\n",
    "    setup: str = Field(description=\"The setup of the joke\")\n",
    "    punchline: str = Field(description=\"The punchline to the joke\")\n",
    "    character: str = Field(description = \"character of the joke\")\n",
    "    rating: Optional[int] = Field(description=\"How funny the joke is, from 1 to 10\")\n",
    "\n",
    "class Add(BaseModel):\n",
    "    \"\"\"Use this whenever addition problems occurs\"\"\"\n",
    "\n",
    "    a: float = Field(description=\"First Number\")\n",
    "    b: float = Field(description=\"Second Number\")\n",
    "    outp: str = Field(description=\"add 5 and 10\")\n",
    "\n",
    "\n",
    "model_with_tools = model.bind_tools([ResponseFormatter,Joke,Add])\n",
    "\n",
    "ai_msg = model_with_tools.invoke(\"What is the addition of 5 and 10?\")\n",
    "\n",
    "ai_msg.tool_calls[0]['args']\n"
   ]
  },
  {
   "cell_type": "markdown",
   "metadata": {},
   "source": [
    "## Langsmith Implementation"
   ]
  },
  {
   "cell_type": "code",
   "execution_count": 10,
   "metadata": {},
   "outputs": [],
   "source": [
    "api_key='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'"
   ]
  },
  {
   "cell_type": "code",
   "execution_count": 13,
   "metadata": {},
   "outputs": [],
   "source": [
    "\n",
    "\n",
    "# LANGCHAIN_TRACING_V2=true\n",
    "# LANGCHAIN_ENDPOINT=\"https://api.smith.langchain.com\"\n",
    "# LANGCHAIN_API_KEY=\"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\"\n",
    "# LANGCHAIN_PROJECT=\"chatbotBajra\""
   ]
  },
  {
   "cell_type": "code",
   "execution_count": 9,
   "metadata": {},
   "outputs": [
    {
     "data": {
      "text/plain": [
       "'You are an employee of the company, as indicated by various provisions in the leave policy document.'"
      ]
     },
     "execution_count": 9,
     "metadata": {},
     "output_type": "execute_result"
    }
   ],
   "source": [
    "from langsmith import traceable\n",
    "\n",
    "@traceable # Auto-trace this function\n",
    "def run_this(user_inp:str):\n",
    "    return conversational_rag_chain.invoke(\n",
    "        {\"input\": user_inp},\n",
    "        config={\n",
    "            \"configurable\": {\"session_id\": \"abc123\"}\n",
    "        },  # constructs a key \"abc123\" in `store`.\n",
    "    )[\"answer\"]\n",
    "\n",
    "user_inp=input(\"Ask me anything!\")\n",
    "run_this(user_inp)"
   ]
  }
 ],
 "metadata": {
  "kernelspec": {
   "display_name": "bajra",
   "language": "python",
   "name": "python3"
  },
  "language_info": {
   "codemirror_mode": {
    "name": "ipython",
    "version": 3
   },
   "file_extension": ".py",
   "mimetype": "text/x-python",
   "name": "python",
   "nbconvert_exporter": "python",
   "pygments_lexer": "ipython3",
   "version": "3.12.3"
  }
 },
 "nbformat": 4,
 "nbformat_minor": 2
}
